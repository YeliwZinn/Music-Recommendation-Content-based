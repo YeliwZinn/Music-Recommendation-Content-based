{
 "cells": [
  {
   "cell_type": "code",
   "execution_count": 27,
   "id": "ff8be383-c62c-4889-b826-502e279fcda7",
   "metadata": {},
   "outputs": [],
   "source": [
    "import pandas as pd\n",
    "import numpy as np"
   ]
  },
  {
   "cell_type": "code",
   "execution_count": 28,
   "id": "6c510c39-54c5-4910-a1ad-f630f3f2a3b7",
   "metadata": {},
   "outputs": [],
   "source": [
    "from typing import List, Dict\n",
    "from sklearn.feature_extraction.text import TfidfVectorizer\n",
    "from sklearn.metrics.pairwise import cosine_similarity"
   ]
  },
  {
   "cell_type": "code",
   "execution_count": 29,
   "id": "ab499796-3dc3-4529-858c-f5d721b49bd0",
   "metadata": {},
   "outputs": [
    {
     "data": {
      "text/html": [
       "<div>\n",
       "<style scoped>\n",
       "    .dataframe tbody tr th:only-of-type {\n",
       "        vertical-align: middle;\n",
       "    }\n",
       "\n",
       "    .dataframe tbody tr th {\n",
       "        vertical-align: top;\n",
       "    }\n",
       "\n",
       "    .dataframe thead th {\n",
       "        text-align: right;\n",
       "    }\n",
       "</style>\n",
       "<table border=\"1\" class=\"dataframe\">\n",
       "  <thead>\n",
       "    <tr style=\"text-align: right;\">\n",
       "      <th></th>\n",
       "      <th>artist</th>\n",
       "      <th>song</th>\n",
       "      <th>link</th>\n",
       "      <th>text</th>\n",
       "    </tr>\n",
       "  </thead>\n",
       "  <tbody>\n",
       "    <tr>\n",
       "      <th>0</th>\n",
       "      <td>ABBA</td>\n",
       "      <td>Ahe's My Kind Of Girl</td>\n",
       "      <td>/a/abba/ahes+my+kind+of+girl_20598417.html</td>\n",
       "      <td>Look at her face, it's a wonderful face  \\nAnd...</td>\n",
       "    </tr>\n",
       "    <tr>\n",
       "      <th>1</th>\n",
       "      <td>ABBA</td>\n",
       "      <td>Andante, Andante</td>\n",
       "      <td>/a/abba/andante+andante_20002708.html</td>\n",
       "      <td>Take it easy with me, please  \\nTouch me gentl...</td>\n",
       "    </tr>\n",
       "    <tr>\n",
       "      <th>2</th>\n",
       "      <td>ABBA</td>\n",
       "      <td>As Good As New</td>\n",
       "      <td>/a/abba/as+good+as+new_20003033.html</td>\n",
       "      <td>I'll never know why I had to go  \\nWhy I had t...</td>\n",
       "    </tr>\n",
       "  </tbody>\n",
       "</table>\n",
       "</div>"
      ],
      "text/plain": [
       "  artist                   song                                        link  \\\n",
       "0   ABBA  Ahe's My Kind Of Girl  /a/abba/ahes+my+kind+of+girl_20598417.html   \n",
       "1   ABBA       Andante, Andante       /a/abba/andante+andante_20002708.html   \n",
       "2   ABBA         As Good As New        /a/abba/as+good+as+new_20003033.html   \n",
       "\n",
       "                                                text  \n",
       "0  Look at her face, it's a wonderful face  \\nAnd...  \n",
       "1  Take it easy with me, please  \\nTouch me gentl...  \n",
       "2  I'll never know why I had to go  \\nWhy I had t...  "
      ]
     },
     "execution_count": 29,
     "metadata": {},
     "output_type": "execute_result"
    }
   ],
   "source": [
    "songs = pd.read_csv(\"songdata.csv\")\n",
    "songs.head(3)"
   ]
  },
  {
   "cell_type": "code",
   "execution_count": 30,
   "id": "d75c6141-ff91-4675-bf80-218e8f1f22d4",
   "metadata": {},
   "outputs": [],
   "source": [
    "songs = songs.sample(n=5000).drop(\"link\", axis=1).reset_index(drop=True)"
   ]
  },
  {
   "cell_type": "code",
   "execution_count": 31,
   "id": "2e730776-f251-4cd8-8602-e1497207e4e0",
   "metadata": {},
   "outputs": [],
   "source": [
    "songs[\"text\"] = songs[\"text\"].str.replace(r\"\\n\", \"\")"
   ]
  },
  {
   "cell_type": "code",
   "execution_count": 32,
   "id": "30b488a7-b5b5-41ac-9a76-9e99570d5d60",
   "metadata": {},
   "outputs": [],
   "source": [
    "tfidf = TfidfVectorizer(analyzer=\"word\", stop_words=\"english\")"
   ]
  },
  {
   "cell_type": "code",
   "execution_count": 33,
   "id": "42e4cc78-d4ad-4d0a-b10b-00139ca3fe6c",
   "metadata": {},
   "outputs": [],
   "source": [
    "lyrics_matrix = tfidf.fit_transform(songs[\"text\"])"
   ]
  },
  {
   "cell_type": "code",
   "execution_count": 34,
   "id": "f4864c7d-65c1-4e2a-bff6-b6f54c8898c8",
   "metadata": {},
   "outputs": [],
   "source": [
    "cosine_similarities = cosine_similarity(lyrics_matrix)"
   ]
  },
  {
   "cell_type": "code",
   "execution_count": 35,
   "id": "1f96599d-32db-4878-91fc-b89b5a8addb1",
   "metadata": {},
   "outputs": [],
   "source": [
    "similarities = {}"
   ]
  },
  {
   "cell_type": "code",
   "execution_count": 36,
   "id": "4d44a8d9-ce16-4da3-b0e8-be05c9ab0944",
   "metadata": {},
   "outputs": [],
   "source": [
    "for i in range(len(cosine_similarities)):\n",
    "    # Now we'll sort each element in cosine_similarities and get the indexes of the songs.\n",
    "    similar_indices = cosine_similarities[i].argsort()[:-50:-1]\n",
    "    # After that, we'll store in similarities each name of the 50 most similar songs.\n",
    "    # Except the first one that is the same song.\n",
    "    similarities[songs['song'].iloc[i]] = [(cosine_similarities[i][x], songs['song'][x], songs['artist'][x]) for x in similar_indices][1:]\n"
   ]
  },
  {
   "cell_type": "code",
   "execution_count": 37,
   "id": "35541a1a-769c-40f4-bae3-89280a9d2378",
   "metadata": {},
   "outputs": [],
   "source": [
    "class ContentBasedRecommender:\n",
    "    def __init__(self, matrix):\n",
    "        self.matrix_similar = matrix\n",
    "\n",
    "    def _print_message(self, song, recom_song):\n",
    "        rec_items = len(recom_song)\n",
    "\n",
    "        print(f'The {rec_items} recommended songs for {song} are:')\n",
    "        for i in range(rec_items):\n",
    "            print(f\"Number {i+1}:\")\n",
    "            print(f\"{recom_song[i][1]} by {recom_song[i][2]} with {round(recom_song[i][0], 3)} similarity score\")\n",
    "            print(\"--------------------\")\n",
    "\n",
    "    def recommend(self, recommendation):\n",
    "        # Get song to find recommendations for\n",
    "        song = recommendation['song']\n",
    "        # Get number of songs to recommend\n",
    "        number_songs = recommendation['number_songs']\n",
    "        # Get the number of songs most similars from matrix similarities\n",
    "        recom_song = self.matrix_similar[song][:number_songs]\n",
    "        # print each item\n",
    "        self._print_message(song=song, recom_song=recom_song)"
   ]
  },
  {
   "cell_type": "code",
   "execution_count": 38,
   "id": "133fe63c-fece-4c78-bbcc-5859a57d72d1",
   "metadata": {},
   "outputs": [],
   "source": [
    "recommedations = ContentBasedRecommender(similarities)"
   ]
  },
  {
   "cell_type": "code",
   "execution_count": 39,
   "id": "da91e7c7-4b53-4c5a-9aec-b752435403cd",
   "metadata": {},
   "outputs": [],
   "source": [
    "recommendation = {\n",
    "    \"song\": songs['song'].iloc[10],\n",
    "    \"number_songs\": 4\n",
    "}"
   ]
  },
  {
   "cell_type": "code",
   "execution_count": 40,
   "id": "eefd5b6c-2123-4f77-b5ad-6cbd544c49e8",
   "metadata": {},
   "outputs": [
    {
     "name": "stdout",
     "output_type": "stream",
     "text": [
      "The 4 recommended songs for I Ain't No Angel are:\n",
      "Number 1:\n",
      "If You Be My Baby by Fleetwood Mac with 0.272 similarity score\n",
      "--------------------\n",
      "Number 2:\n",
      "Angel Baby by Linda Ronstadt with 0.267 similarity score\n",
      "--------------------\n",
      "Number 3:\n",
      "Angel On My Shoulder by Natalie Cole with 0.266 similarity score\n",
      "--------------------\n",
      "Number 4:\n",
      "Angel Eyes by Ace Of Base with 0.253 similarity score\n",
      "--------------------\n"
     ]
    }
   ],
   "source": [
    "recommedations.recommend(recommendation)"
   ]
  },
  {
   "cell_type": "code",
   "execution_count": 41,
   "id": "137a0444-4b59-4936-91f1-e2ad848c86ef",
   "metadata": {},
   "outputs": [],
   "source": [
    "recommendation2 = {\n",
    "    \"song\": songs['song'].iloc[120],\n",
    "    \"number_songs\": 4\n",
    "}"
   ]
  },
  {
   "cell_type": "code",
   "execution_count": 42,
   "id": "8443f4f2-1248-4f12-ab51-6edbd1b16f55",
   "metadata": {},
   "outputs": [
    {
     "name": "stdout",
     "output_type": "stream",
     "text": [
      "The 4 recommended songs for Ddevil are:\n",
      "Number 1:\n",
      "All God's Lovely Children by Kenny Rogers with 0.228 similarity score\n",
      "--------------------\n",
      "Number 2:\n",
      "Too Many People by Pet Shop Boys with 0.196 similarity score\n",
      "--------------------\n",
      "Number 3:\n",
      "People by King Crimson with 0.19 similarity score\n",
      "--------------------\n",
      "Number 4:\n",
      "Some People Are Crazy by John Martyn with 0.162 similarity score\n",
      "--------------------\n"
     ]
    }
   ],
   "source": [
    "recommedations.recommend(recommendation2)"
   ]
  },
  {
   "cell_type": "code",
   "execution_count": 43,
   "id": "27115aac-f38c-4e2e-ac45-c788370a92a7",
   "metadata": {},
   "outputs": [],
   "source": [
    "import pickle\n",
    "\n",
    "\n",
    "pickle.dump(similarities, open(\"similarities.pkl\", \"wb\"))\n",
    "\n",
    "pickle.dump(songs, open(\"songs.pkl\", \"wb\"))"
   ]
  },
  {
   "cell_type": "code",
   "execution_count": null,
   "id": "d7467de0-a590-49a8-a3e0-2aca2120ea9f",
   "metadata": {},
   "outputs": [],
   "source": []
  }
 ],
 "metadata": {
  "kernelspec": {
   "display_name": "Python 3 (ipykernel)",
   "language": "python",
   "name": "python3"
  },
  "language_info": {
   "codemirror_mode": {
    "name": "ipython",
    "version": 3
   },
   "file_extension": ".py",
   "mimetype": "text/x-python",
   "name": "python",
   "nbconvert_exporter": "python",
   "pygments_lexer": "ipython3",
   "version": "3.11.4"
  }
 },
 "nbformat": 4,
 "nbformat_minor": 5
}
